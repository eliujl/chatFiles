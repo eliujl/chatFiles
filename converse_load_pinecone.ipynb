{
 "cells": [
  {
   "attachments": {},
   "cell_type": "markdown",
   "metadata": {},
   "source": [
    "## iPython notebook for conversational retrieval using Langchain, OpenAI (API key required), and existing Pinecone index (API key required).\n",
    "No need to ingest the documents/texts in this file; it is assumed that they have already beein ingested and the embeddings have already been stored in Pinecone with an index"
   ]
  },
  {
   "cell_type": "code",
   "execution_count": null,
   "metadata": {},
   "outputs": [],
   "source": [
    "#!pip3 install langchain pinecone-client\t# install if needed"
   ]
  },
  {
   "attachments": {},
   "cell_type": "markdown",
   "metadata": {},
   "source": [
    "* Open AI API key (from .bashrc, Windows environment variables, etc. Or .env) and embeddings"
   ]
  },
  {
   "cell_type": "code",
   "execution_count": 1,
   "metadata": {},
   "outputs": [],
   "source": [
    "from langchain.embeddings.openai import OpenAIEmbeddings\n",
    "import os\n",
    "\n",
    "OPENAI_API_KEY = os.environ['OPENAI_API_KEY']\n",
    "embeddings = OpenAIEmbeddings(openai_api_key=OPENAI_API_KEY)"
   ]
  },
  {
   "attachments": {},
   "cell_type": "markdown",
   "metadata": {},
   "source": [
    "* Use Open AI LLM with gpt-3.5-turbo. Set the temperature to be 0 if you do not want it to make up things"
   ]
  },
  {
   "cell_type": "code",
   "execution_count": 2,
   "metadata": {},
   "outputs": [],
   "source": [
    "from langchain.chat_models import ChatOpenAI\n",
    "llm=ChatOpenAI(temperature=0, model_name=\"gpt-3.5-turbo\", openai_api_key=OPENAI_API_KEY)"
   ]
  },
  {
   "attachments": {},
   "cell_type": "markdown",
   "metadata": {},
   "source": [
    "* Set up Pinecone env"
   ]
  },
  {
   "cell_type": "code",
   "execution_count": null,
   "metadata": {},
   "outputs": [],
   "source": [
    "from langchain.vectorstores import Pinecone\n",
    "from langchain.embeddings.openai import OpenAIEmbeddings\n",
    "import pinecone\n",
    "\n",
    "embeddings = OpenAIEmbeddings(openai_api_key=OPENAI_API_KEY)\n",
    "# initialize pinecone\n",
    "PINECONE_API_KEY = os.environ['PINECONE_API_KEY']\n",
    "PINECONE_API_ENV = os.environ['PINECONE_API_ENV']\n",
    "pinecone.init(\n",
    "    api_key=PINECONE_API_KEY,\n",
    "    environment=PINECONE_API_ENV\n",
    ")"
   ]
  },
  {
   "attachments": {},
   "cell_type": "markdown",
   "metadata": {},
   "source": [
    "* Load the pre-created Pinecone index"
   ]
  },
  {
   "cell_type": "code",
   "execution_count": 4,
   "metadata": {},
   "outputs": [],
   "source": [
    "# the index which has already be stored in pinecone.io as long-term memory\n",
    "index_name = \"langchaints\"\t# example pinecone index; replace by yours\n",
    "if index_name in pinecone.list_indexes():\n",
    "    docsearch = Pinecone.from_existing_index(index_name, embeddings)\n",
    "else:\n",
    "\traise ValueError('Cannot find the specified Pinecone index. Create one in pinecone.io or using pinecone.create_index(name=index_name, dimension=1536, metric=\"cosine\", shards=1)')\n",
    "# number of sources (split-documents when ingesting files); default is 4\n",
    "k = 20\n",
    "retriever = docsearch.as_retriever(\n",
    "    search_type=\"similarity\", search_kwargs={\"k\": 20})\n"
   ]
  },
  {
   "attachments": {},
   "cell_type": "markdown",
   "metadata": {},
   "source": [
    "* Set up to use the ConversationalRetrievalChain"
   ]
  },
  {
   "cell_type": "code",
   "execution_count": 13,
   "metadata": {},
   "outputs": [],
   "source": [
    "from langchain.chains import ConversationalRetrievalChain\n",
    "CRqa = ConversationalRetrievalChain.from_llm(\n",
    "    llm, retriever=retriever, return_source_documents=True)"
   ]
  },
  {
   "attachments": {},
   "cell_type": "markdown",
   "metadata": {},
   "source": [
    "* Initialize chat history. Provide a prompt, search the index for similar texts (from the split-documents), and generate a reply based on only the found texts. Print out the reply and one source."
   ]
  },
  {
   "cell_type": "code",
   "execution_count": null,
   "metadata": {},
   "outputs": [],
   "source": [
    "chat_history = []\n",
    "query = \"What is the summary of the documents on CSI-RS?\"\n",
    "result = CRqa({\"question\": query, \"chat_history\": chat_history})\n",
    "print(result['answer'])\n",
    "# print out the first (most relevant) source (only the first 200 characters for brevity here) if needed\n",
    "# print(result['source_documents'][0].page_content[:200])"
   ]
  },
  {
   "attachments": {},
   "cell_type": "markdown",
   "metadata": {},
   "source": [
    "* Update the chat history, and provide another prompt. Generate a reply and also print out one source."
   ]
  },
  {
   "cell_type": "code",
   "execution_count": null,
   "metadata": {},
   "outputs": [],
   "source": [
    "chat_history = [(query, result[\"answer\"])]\n",
    "query = \"Elaborate how it is used for SCell activation?\"\n",
    "result = CRqa({\"question\": query, \"chat_history\": chat_history})\n",
    "print(result['answer'])\n",
    "# print out the first (most relevant) source (only the first 200 characters for brevity here) if needed\n",
    "# print(result['source_documents'][0].page_content[:200])"
   ]
  }
 ],
 "metadata": {
  "kernelspec": {
   "display_name": "Python 3",
   "language": "python",
   "name": "python3"
  },
  "language_info": {
   "codemirror_mode": {
    "name": "ipython",
    "version": 3
   },
   "file_extension": ".py",
   "mimetype": "text/x-python",
   "name": "python",
   "nbconvert_exporter": "python",
   "pygments_lexer": "ipython3",
   "version": "3.10.6"
  },
  "orig_nbformat": 4
 },
 "nbformat": 4,
 "nbformat_minor": 2
}
